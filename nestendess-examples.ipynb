{
 "cells": [
  {
   "cell_type": "code",
   "execution_count": 197,
   "metadata": {},
   "outputs": [],
   "source": [
    "import numpy as np \n",
    "import matplotlib.pyplot as plt\n",
    "import seaborn as sns\n",
    "\n",
    "np.random.seed(0)\n",
    "\n",
    "sns.set(context='paper', style='ticks',\n",
    "        font_scale=1, palette='colorblind')"
   ]
  },
  {
   "cell_type": "markdown",
   "metadata": {},
   "source": [
    "## 1. Plotting the data"
   ]
  },
  {
   "cell_type": "markdown",
   "metadata": {},
   "source": [
    "Let's start by generating the data. We will generate a random 8x20 binary matrix, where the probability of each element being 1 is 0.5:"
   ]
  },
  {
   "cell_type": "code",
   "execution_count": 198,
   "metadata": {},
   "outputs": [],
   "source": [
    "# generate a random binary 8 by 20 matrix using binomial distribution\n",
    "data = np.random.binomial(1, 0.2, (8, 20))"
   ]
  },
  {
   "cell_type": "markdown",
   "metadata": {},
   "source": [
    "To visualize nestendess, we need to sort our matrix, so that the elements that are 1 are grouped together. We will sort both rows and columns by the number of 1s in each row and column, respectively."
   ]
  },
  {
   "cell_type": "code",
   "execution_count": 218,
   "metadata": {},
   "outputs": [],
   "source": [
    "def sort_matrix(M):\n",
    "\n",
    "    # sort the matrix by the sum of each column (reverse order)\n",
    "    M = M[:, np.argsort(M.sum(axis=0))[::-1]]\n",
    "    # sort the matrix by the sum of each row\n",
    "    M = M[np.argsort(M.sum(axis=1))[::-1]]\n",
    "\n",
    "    return M"
   ]
  },
  {
   "cell_type": "code",
   "execution_count": 219,
   "metadata": {},
   "outputs": [],
   "source": [
    "data_sorted = sort_matrix(data)"
   ]
  },
  {
   "cell_type": "code",
   "execution_count": 220,
   "metadata": {},
   "outputs": [
    {
     "data": {
      "image/png": "[encoded data removed]",
      "text/plain": [
       "<Figure size 800x400 with 2 Axes>"
      ]
     },
     "metadata": {},
     "output_type": "display_data"
    }
   ],
   "source": [
    "# plot original and sorted matrix with matplotlib\n",
    "\n",
    "fig, ax = plt.subplots(1, 2, figsize=(8, 4))\n",
    "\n",
    "ax[0].imshow(data, cmap='Greys', interpolation='nearest')\n",
    "ax[0].set_title('Original Matrix')\n",
    "# remove ticks\n",
    "ax[0].set_xticks([])\n",
    "ax[0].set_yticks([])\n",
    "\n",
    "ax[1].imshow(data_sorted, cmap='Greys', interpolation='nearest')\n",
    "ax[1].set_title('Sorted Matrix')\n",
    "# remove ticks\n",
    "ax[1].set_xticks([])\n",
    "ax[1].set_yticks([])\n",
    "\n",
    "plt.tight_layout()\n",
    "plt.show()"
   ]
  },
  {
   "cell_type": "markdown",
   "metadata": {},
   "source": [
    "## 2. Generating the fully nested matrix\n",
    "\n",
    "\n",
    "Another thing that interest us is the fully nested matrix given the same parameters. We will generate it by countin the number of items in each row, and then generating a new matrix, where eac row is filled from the start to n, where n is the number of 1s in the row."
   ]
  },
  {
   "cell_type": "code",
   "execution_count": 221,
   "metadata": {},
   "outputs": [],
   "source": [
    "def fully_nested_matrix(M):\n",
    "\n",
    "    # count number of 1s in the rows\n",
    "    row_counts = M.sum(axis=1)\n",
    "\n",
    "    # generate fully nested matrix\n",
    "\n",
    "    nested_matrix = np.zeros((M.shape[0], M.shape[1]))\n",
    "\n",
    "    for i, j in enumerate(row_counts):\n",
    "        nested_matrix[i, :j] = 1\n",
    "\n",
    "    return nested_matrix"
   ]
  },
  {
   "cell_type": "code",
   "execution_count": 222,
   "metadata": {},
   "outputs": [],
   "source": [
    "nested_matrix = fully_nested_matrix(data_sorted)"
   ]
  },
  {
   "cell_type": "code",
   "execution_count": 223,
   "metadata": {},
   "outputs": [
    {
     "data": {
      "image/png": "[encoded data removed]",
      "text/plain": [
       "<Figure size 800x400 with 2 Axes>"
      ]
     },
     "metadata": {},
     "output_type": "display_data"
    }
   ],
   "source": [
    "fig, ax = plt.subplots(1, 2, figsize=(8, 4))\n",
    "\n",
    "ax[0].imshow(data_sorted, cmap='Greys', interpolation='nearest')\n",
    "ax[0].set_title('Original Matrix')\n",
    "\n",
    "ax[1].imshow(nested_matrix, cmap='Greys', interpolation='nearest')\n",
    "ax[1].set_title('Fully Nested Matrix')\n",
    "\n",
    "for a in ax:\n",
    "    a.set_xticks([])\n",
    "    a.set_yticks([])\n",
    "\n",
    "plt.tight_layout()\n",
    "plt.show()"
   ]
  },
  {
   "cell_type": "code",
   "execution_count": 224,
   "metadata": {},
   "outputs": [
    {
     "data": {
      "text/plain": [
       "(8, 20)"
      ]
     },
     "execution_count": 224,
     "metadata": {},
     "output_type": "execute_result"
    }
   ],
   "source": [
    "data.shape"
   ]
  },
  {
   "cell_type": "markdown",
   "metadata": {},
   "source": [
    "## 3. NODF"
   ]
  },
  {
   "cell_type": "code",
   "execution_count": 241,
   "metadata": {},
   "outputs": [],
   "source": [
    "def NODF(M):\n",
    "    '''\n",
    "    Nestdness metric from (Almeida-Neto et al. 2008)\n",
    "    '''\n",
    "    m, n = M.shape\n",
    "    \n",
    "    # Calculate marginal totals for rows and columns\n",
    "    MT_rows = np.sum(M, axis=1)\n",
    "    MT_cols = np.sum(M, axis=0)\n",
    "    \n",
    "    # Initialize N_paired for rows and columns\n",
    "    N_paired_rows = 0\n",
    "    N_paired_cols = 0\n",
    "    \n",
    "    # Calculate N_paired for rows\n",
    "    for i in range(m):\n",
    "        for j in range(i + 1, m):\n",
    "            if MT_rows[j] < MT_rows[i]:\n",
    "                PO = np.sum(M[j] * M[i]) / MT_rows[j] if MT_rows[j] != 0 else 0\n",
    "                N_paired_rows += PO\n",
    "            else:\n",
    "                N_paired_rows += 0\n",
    "    \n",
    "    # Calculate N_paired for columns\n",
    "    for k in range(n):\n",
    "        for l in range(k + 1, n):\n",
    "            if MT_cols[l] < MT_cols[k]:\n",
    "                PO = np.sum(M[:, l] * M[:, k]) / MT_cols[l] if MT_cols[l] != 0 else 0\n",
    "                N_paired_cols += PO\n",
    "            else:\n",
    "                N_paired_cols += 0\n",
    "    \n",
    "    # Calculate the total number of pairs for rows and columns\n",
    "    total_pairs_rows = m * (m - 1) / 2\n",
    "    total_pairs_cols = n * (n - 1) / 2\n",
    "    \n",
    "    # Calculate NODF\n",
    "    NODF_value = (N_paired_rows + N_paired_cols) / (total_pairs_rows + total_pairs_cols)\n",
    "    \n",
    "    return NODF_value"
   ]
  },
  {
   "cell_type": "code",
   "execution_count": 246,
   "metadata": {},
   "outputs": [
    {
     "data": {
      "text/plain": [
       "np.float64(0.65)"
      ]
     },
     "execution_count": 246,
     "metadata": {},
     "output_type": "execute_result"
    }
   ],
   "source": [
    "matrix = np.array([\n",
    "    [1, 0, 1, 1, 1],  # r1\n",
    "    [1, 1, 1, 0, 0],  # r2\n",
    "    [0, 1, 1, 1, 0],  # r3\n",
    "    [1, 1, 0, 0, 0],  # r4\n",
    "    [1, 1, 0, 0, 0]   # r5\n",
    "])\n",
    "\n",
    "NODF(fully_nested_matrix(matrix))"
   ]
  },
  {
   "cell_type": "code",
   "execution_count": 247,
   "metadata": {},
   "outputs": [
    {
     "data": {
      "text/plain": [
       "<matplotlib.image.AxesImage at 0x11d4d1450>"
      ]
     },
     "execution_count": 247,
     "metadata": {},
     "output_type": "execute_result"
    },
    {
     "data": {
      "image/png": "[encoded data removed]",
      "text/plain": [
       "<Figure size 640x480 with 1 Axes>"
      ]
     },
     "metadata": {},
     "output_type": "display_data"
    }
   ],
   "source": [
    "plt.imshow(matrix, cmap='Greys', interpolation='nearest')"
   ]
  },
  {
   "cell_type": "code",
   "execution_count": 248,
   "metadata": {},
   "outputs": [
    {
     "data": {
      "text/plain": [
       "<matplotlib.image.AxesImage at 0x11d45e7d0>"
      ]
     },
     "execution_count": 248,
     "metadata": {},
     "output_type": "execute_result"
    },
    {
     "data": {
      "image/png": "[encoded data removed]",
      "text/plain": [
       "<Figure size 640x480 with 1 Axes>"
      ]
     },
     "metadata": {},
     "output_type": "display_data"
    }
   ],
   "source": [
    "plt.imshow(fully_nested_matrix(matrix), cmap='Greys', interpolation='nearest')"
   ]
  },
  {
   "cell_type": "code",
   "execution_count": 249,
   "metadata": {},
   "outputs": [
    {
     "data": {
      "text/plain": [
       "np.float64(0.18784403669724772)"
      ]
     },
     "execution_count": 249,
     "metadata": {},
     "output_type": "execute_result"
    }
   ],
   "source": [
    "NODF(data_sorted)"
   ]
  }
 ],
 "metadata": {
  "kernelspec": {
   "display_name": "nestedness",
   "language": "python",
   "name": "python3"
  },
  "language_info": {
   "codemirror_mode": {
    "name": "ipython",
    "version": 3
   },
   "file_extension": ".py",
   "mimetype": "text/x-python",
   "name": "python",
   "nbconvert_exporter": "python",
   "pygments_lexer": "ipython3",
   "version": "3.11.2"
  }
 },
 "nbformat": 4,
 "nbformat_minor": 2
}
