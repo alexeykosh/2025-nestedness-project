{
 "cells": [
  {
   "cell_type": "code",
   "execution_count": 42,
   "metadata": {},
   "outputs": [],
   "source": [
    "import numpy as np \n",
    "import matplotlib.pyplot as plt\n",
    "import seaborn as sns\n",
    "import itertools as it\n",
    "\n",
    "np.random.seed(0)\n",
    "\n",
    "sns.set(context='paper', style='ticks',\n",
    "        font_scale=1, palette='colorblind')"
   ]
  },
  {
   "cell_type": "markdown",
   "metadata": {},
   "source": [
    "## 1. Plotting the data"
   ]
  },
  {
   "cell_type": "markdown",
   "metadata": {},
   "source": [
    "Let's start by generating the data. We will generate a random 8x20 binary matrix, where the probability of each element being 1 is 0.5:"
   ]
  },
  {
   "cell_type": "code",
   "execution_count": 43,
   "metadata": {},
   "outputs": [],
   "source": [
    "# generate a random binary 8 by 20 matrix using binomial distribution\n",
    "data = np.random.binomial(1, 0.2, (8, 20))"
   ]
  },
  {
   "cell_type": "markdown",
   "metadata": {},
   "source": [
    "To visualize nestendess, we need to sort our matrix, so that the elements that are 1 are grouped together. We will sort both rows and columns by the number of 1s in each row and column, respectively."
   ]
  },
  {
   "cell_type": "code",
   "execution_count": 48,
   "metadata": {},
   "outputs": [],
   "source": [
    "def sort_matrix(M):\n",
    "\n",
    "    # sort the matrix by the sum of each column \n",
    "    # (NB: reverse order, just for visuals)\n",
    "    M = M[:, np.argsort(M.sum(axis=0))[::-1]]\n",
    "    # sort the matrix by the sum of each row\n",
    "    M = M[np.argsort(M.sum(axis=1))]\n",
    "\n",
    "    return M"
   ]
  },
  {
   "cell_type": "code",
   "execution_count": 90,
   "metadata": {},
   "outputs": [
    {
     "data": {
      "image/png": "[encoded data removed]",
      "text/plain": [
       "<Figure size 800x400 with 2 Axes>"
      ]
     },
     "metadata": {},
     "output_type": "display_data"
    }
   ],
   "source": [
    "# plot original and sorted matrix with matplotlib\n",
    "\n",
    "fig, ax = plt.subplots(1, 2, figsize=(8, 4))\n",
    "\n",
    "ax[0].imshow(data, cmap='Greys', interpolation='nearest')\n",
    "ax[0].set_title('Original Matrix', fontsize=12)\n",
    "# remove ticks\n",
    "ax[0].set_xticks([])\n",
    "ax[0].set_yticks([])\n",
    "ax[0].set_ylabel('Collections', fontsize=8)\n",
    "ax[0].set_xlabel('Entities', fontsize=8)\n",
    "\n",
    "# apllying the sorting function\n",
    "ax[1].imshow(sort_matrix(data), cmap='Greys', interpolation='nearest')\n",
    "ax[1].set_title('Sorted Matrix (by row and column sums)', fontsize=12)\n",
    "# remove ticks\n",
    "ax[1].set_xticks([])\n",
    "ax[1].set_yticks([])\n",
    "ax[1].set_ylabel('Collections (ordered by size)', fontsize=8)\n",
    "ax[1].set_xlabel('Entities (ordered by n. of occurences)', fontsize=8)\n",
    "\n",
    "plt.tight_layout()\n",
    "plt.show()"
   ]
  },
  {
   "cell_type": "markdown",
   "metadata": {},
   "source": [
    "## 2. Generating the fully nested matrix\n",
    "\n",
    "\n",
    "Another thing that interest us is the fully nested matrix given the same parameters. We will generate it by countin the number of items in each row, and then generating a new matrix, where eac row is filled from the start to n, where n is the number of 1s in the row."
   ]
  },
  {
   "cell_type": "code",
   "execution_count": 76,
   "metadata": {},
   "outputs": [],
   "source": [
    "def fully_nested_matrix(M):\n",
    "    '''\n",
    "    This function takes a binary matrix M and returns a fully nested matrix \n",
    "    of the same shape and fill per row.\n",
    "    '''\n",
    "\n",
    "    # count number of 1s in the rows\n",
    "    row_counts = M.sum(axis=1)\n",
    "\n",
    "    # generate fully nested matrix\n",
    "\n",
    "    nested_matrix = np.zeros((M.shape[0], M.shape[1]))\n",
    "\n",
    "    for i, j in enumerate(row_counts):\n",
    "        nested_matrix[i, :j] = 1\n",
    "\n",
    "    return nested_matrix"
   ]
  },
  {
   "cell_type": "code",
   "execution_count": 81,
   "metadata": {},
   "outputs": [],
   "source": [
    "nested_matrix = fully_nested_matrix(sort_matrix(data)) # NB: I am applying to the sorted matrix"
   ]
  },
  {
   "cell_type": "code",
   "execution_count": 82,
   "metadata": {},
   "outputs": [
    {
     "data": {
      "image/png": "[encoded data removed]",
      "text/plain": [
       "<Figure size 800x400 with 2 Axes>"
      ]
     },
     "metadata": {},
     "output_type": "display_data"
    }
   ],
   "source": [
    "fig, ax = plt.subplots(1, 2, figsize=(8, 4))\n",
    "\n",
    "ax[0].imshow(data_sorted, cmap='Greys', interpolation='nearest')\n",
    "ax[0].set_title('Original Matrix')\n",
    "\n",
    "ax[1].imshow(nested_matrix, cmap='Greys', interpolation='nearest')\n",
    "ax[1].set_title('Fully Nested Matrix')\n",
    "\n",
    "for a in ax:\n",
    "    a.set_xticks([])\n",
    "    a.set_yticks([])\n",
    "\n",
    "plt.tight_layout()\n",
    "plt.show()"
   ]
  },
  {
   "cell_type": "markdown",
   "metadata": {},
   "source": [
    "## 3. NODF"
   ]
  },
  {
   "cell_type": "code",
   "execution_count": 83,
   "metadata": {},
   "outputs": [],
   "source": [
    "def NODF(matrix):\n",
    "    '''\n",
    "    Compute the NODF metric for a given binary matrix.\n",
    "\n",
    "    Returns\n",
    "    -------\n",
    "\n",
    "    NODF : float\n",
    "        The NODF value of the matrix\n",
    "    Fill : float\n",
    "        The fill to size ratio of the matrix\n",
    "    '''\n",
    "    # Step 1: Convert each row into a set of column indices containing 1s\n",
    "    row_idxs = [set(np.where(row == 1)[0]) for row in matrix]\n",
    "\n",
    "    # Step 2: Generate all ordered pairs of row sets\n",
    "    row_pairs = list(it.combinations(range(matrix.shape[0]), 2))\n",
    "\n",
    "    # Step 3: Calculate the percentage overlap between each pair of rows\n",
    "    Np_row = []\n",
    "    for i, j in row_pairs:\n",
    "        row_i = row_idxs[i]\n",
    "        row_j = row_idxs[j]\n",
    "        \n",
    "        # Only calculate overlap if the number of 1s in row i is greater than or equal to row j\n",
    "        if len(row_i) >= len(row_j) and len(row_j) > 0:\n",
    "            overlap = 100 * len(row_i & row_j) / len(row_j)\n",
    "            Np_row.append(overlap)\n",
    "\n",
    "    # Step 4: Convert each column into a set of row indices containing 1s\n",
    "    col_idxs = [set(np.where(col == 1)[0]) for col in matrix.T]\n",
    "\n",
    "    # Step 5: Generate all ordered pairs of column sets\n",
    "    col_pairs = list(it.combinations(range(matrix.shape[1]), 2))\n",
    "\n",
    "    # Step 6: Calculate the percentage overlap between each pair of columns\n",
    "    Np_col = []\n",
    "    for i, j in col_pairs:\n",
    "        col_i = col_idxs[i]\n",
    "        col_j = col_idxs[j]\n",
    "        \n",
    "        # Only calculate overlap if the number of 1s in column i is greater than or equal to column j\n",
    "        if len(col_i) >= len(col_j) and len(col_j) > 0:\n",
    "            overlap = 100 * len(col_i & col_j) / len(col_j)\n",
    "            Np_col.append(overlap)\n",
    "\n",
    "    # Step 7: Calculate the NODF value as the average of row and column overlaps\n",
    "    NODF = np.mean(Np_row + Np_col)\n",
    "    return NODF, (matrix.sum() / matrix.size)\n"
   ]
  },
  {
   "cell_type": "code",
   "execution_count": 84,
   "metadata": {},
   "outputs": [],
   "source": [
    "matrix = np.array([\n",
    "    [1, 0, 1, 1, 1],  # r1\n",
    "    [1, 1, 1, 0, 0],  # r2\n",
    "    [0, 1, 1, 1, 0],  # r3\n",
    "    [1, 1, 0, 0, 0],  # r4\n",
    "    [1, 1, 0, 0, 0]   # r5\n",
    "])"
   ]
  },
  {
   "cell_type": "code",
   "execution_count": 85,
   "metadata": {},
   "outputs": [
    {
     "name": "stdout",
     "output_type": "stream",
     "text": [
      "(70.41666666666667, 0.56)\n"
     ]
    },
    {
     "data": {
      "image/png": "[encoded data removed]",
      "text/plain": [
       "<Figure size 640x480 with 1 Axes>"
      ]
     },
     "metadata": {},
     "output_type": "display_data"
    }
   ],
   "source": [
    "plt.imshow(matrix, cmap='Greys', interpolation='nearest')\n",
    "print(NODF(matrix))"
   ]
  },
  {
   "cell_type": "code",
   "execution_count": 86,
   "metadata": {},
   "outputs": [
    {
     "name": "stdout",
     "output_type": "stream",
     "text": [
      "(100.0, 0.56)\n"
     ]
    },
    {
     "data": {
      "image/png": "[encoded data removed]",
      "text/plain": [
       "<Figure size 640x480 with 1 Axes>"
      ]
     },
     "metadata": {},
     "output_type": "display_data"
    }
   ],
   "source": [
    "plt.imshow(fully_nested_matrix(matrix), cmap='Greys', interpolation='nearest')\n",
    "print(NODF(fully_nested_matrix(matrix)))"
   ]
  }
 ],
 "metadata": {
  "kernelspec": {
   "display_name": "Python 3",
   "language": "python",
   "name": "python3"
  },
  "language_info": {
   "codemirror_mode": {
    "name": "ipython",
    "version": 3
   },
   "file_extension": ".py",
   "mimetype": "text/x-python",
   "name": "python",
   "nbconvert_exporter": "python",
   "pygments_lexer": "ipython3",
   "version": "3.11.11"
  }
 },
 "nbformat": 4,
 "nbformat_minor": 2
}
